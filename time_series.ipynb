{
 "cells": [
  {
   "cell_type": "code",
   "execution_count": 143,
   "metadata": {
    "collapsed": true
   },
   "outputs": [],
   "source": [
    "import tensorflow as tf\n",
    "import numpy as np\n",
    "import pandas as pd\n",
    "import matplotlib.pyplot as plt\n",
    "\n",
    "%matplotlib inline"
   ]
  },
  {
   "cell_type": "code",
   "execution_count": 144,
   "metadata": {},
   "outputs": [
    {
     "data": {
      "text/plain": [
       "4979"
      ]
     },
     "execution_count": 144,
     "metadata": {},
     "output_type": "execute_result"
    }
   ],
   "source": [
    "import csv\n",
    "path = 'USDCAD-20yrs from Apr 19-2017-All.csv'\n",
    "data = pd.read_csv(path)\n",
    "data.head()\n",
    "len(data)\n"
   ]
  },
  {
   "cell_type": "code",
   "execution_count": 145,
   "metadata": {},
   "outputs": [],
   "source": [
    "def loadData(data, seq):\n",
    "    features = len(data.columns)\n",
    "    data = data.as_matrix()\n",
    "    seq_len = seq + 1\n",
    "    result = []\n",
    "    for i in range(len(data) - seq_len):\n",
    "        result.append(data[i: i + seq_len])\n",
    "    result = np.array(result)\n",
    "    print(int(0.9 * len(result)))\n",
    "    row = int(0.9 * len(result))\n",
    "    tr = result[:row, :]\n",
    "    X_tr = tr[:, :-1]\n",
    "    Y_tr = tr[:, -1][:,-1]\n",
    "    X_te = result[row:, :-1]\n",
    "    Y_te = result[row:, -1][:,-1]\n",
    "    Y = result[:, -1][:, -1]\n",
    "    feat0 = Y_tr.shape[0]\n",
    "    #feat1 = Y_te.shape[1]\n",
    "    \n",
    "    feat1 = len(Y) - feat0\n",
    "    #Y_te = np.reshape(Y_te, (feat1, 1))\n",
    "    #Y_tr = np.reshape(Y_tr, (feat0, 1))\n",
    "    \n",
    "    return X_tr, Y_tr, X_te, Y_te, Y\n",
    "\n"
   ]
  },
  {
   "cell_type": "code",
   "execution_count": 146,
   "metadata": {},
   "outputs": [
    {
     "name": "stdout",
     "output_type": "stream",
     "text": [
      "4460\n"
     ]
    }
   ],
   "source": [
    "\n",
    "X_tr, Y_tr, X_te, Y_te, Y_to = loadData(data, 22)"
   ]
  },
  {
   "cell_type": "code",
   "execution_count": 147,
   "metadata": {},
   "outputs": [
    {
     "data": {
      "text/plain": [
       "((4460, 22, 3), (4460,), (496, 22, 3), (496,), (4956,))"
      ]
     },
     "execution_count": 147,
     "metadata": {},
     "output_type": "execute_result"
    }
   ],
   "source": [
    "X_tr.shape, Y_tr.shape, X_te.shape, Y_te.shape, Y_to.shape"
   ]
  },
  {
   "cell_type": "code",
   "execution_count": 180,
   "metadata": {},
   "outputs": [],
   "source": [
    "def stats(X_batch, Y_batch):\n",
    "    total_loss = 0\n",
    "    total_acc = 0\n",
    "    samples = len(X_batch)\n",
    "    #X_batch = np.reshape(X_batch, [-1, n_steps, n_inputs])\n",
    "    sess = tf.get_default_session()\n",
    "    for offset in range(0, samples, batch_size):\n",
    "        end = offset+batch_size\n",
    "        xs_batch, ys_batch = X_batch[offset:end], Y_batch[offset:end]\n",
    "        loss_, acc = sess.run([loss, accuracy], feed_dict={x:xs_batch, \n",
    "                                                           y:ys_batch,\n",
    "                                                           keep_prob:1.0\n",
    "                                                           })\n",
    "        total_loss += (float(loss_)*xs_batch.shape[0])\n",
    "        total_acc += (float(acc)*xs_batch.shape[0])\n",
    "\n",
    "    return (total_loss)/samples, (total_acc)/samples"
   ]
  },
  {
   "cell_type": "code",
   "execution_count": 189,
   "metadata": {
    "collapsed": true
   },
   "outputs": [],
   "source": [
    "def RNN(data, w, b):\n",
    "    data = tf.transpose(data, [1, 0, 2])\n",
    "    data = tf.reshape(data, [-1, n_inputs])\n",
    "    hidden = tf.matmul(data, w['hidden']) + b['hidden']\n",
    "    hidden = tf.nn.relu(hidden)\n",
    "    \n",
    "    hidden = tf.layers.batch_normalization(hidden)\n",
    "    hidden = tf.split(hidden, n_steps, 0)\n",
    "    \n",
    "    rnn_layers = [tf.contrib.rnn.DropoutWrapper(tf.contrib.rnn.GRUCell(n_hidden),\n",
    "                                                output_keep_prob=keep_prob) for _ in range(3)]\n",
    "    rnn_layers = tf.contrib.rnn.MultiRNNCell(rnn_layers)\n",
    "    out, _ = tf.contrib.rnn.static_rnn(rnn_layers, hidden, dtype=tf.float32)\n",
    "    rnn_layers_output = out[-1]\n",
    "    return tf.matmul(rnn_layers_output, w['out']) + b['out']\n",
    "    "
   ]
  },
  {
   "cell_type": "code",
   "execution_count": 196,
   "metadata": {},
   "outputs": [],
   "source": [
    "tf.reset_default_graph()\n",
    "from sklearn.model_selection import train_test_split\n",
    "X_tr, X_val, Y_tr, Y_val = train_test_split(X_tr, Y_tr, test_size = 0.1, random_state=0)"
   ]
  },
  {
   "cell_type": "code",
   "execution_count": 197,
   "metadata": {},
   "outputs": [
    {
     "name": "stdout",
     "output_type": "stream",
     "text": [
      "Tensor(\"Placeholder:0\", shape=(?, 22, 3), dtype=float32) Tensor(\"Placeholder_1:0\", dtype=int32)\n"
     ]
    }
   ],
   "source": [
    "n_hidden = 128\n",
    "n_steps = 22\n",
    "n_inputs = 3\n",
    "n_classes = len(set(Y_to))\n",
    "learning_rate = 10e-4\n",
    "epochs = 1000\n",
    "batch_size = 128\n",
    "\n",
    "\n",
    "w = {'hidden':tf.Variable(tf.random_normal([n_inputs, n_hidden])),\n",
    "     'out'   :tf.Variable(tf.random_normal([n_hidden, n_classes]))\n",
    "    \n",
    "}\n",
    "b = {'hidden':tf.Variable(tf.random_normal([n_hidden])),\n",
    "     'out'   :tf.Variable(tf.random_normal([n_classes]))\n",
    "    \n",
    "}\n",
    "\n",
    "x = tf.placeholder(dtype=tf.float32, shape=(None, n_steps, n_inputs))\n",
    "y = tf.placeholder(dtype=tf.int32, shape=(None))\n",
    "y_hot = tf.one_hot(y, n_classes) \n",
    "keep_prob = tf.placeholder(tf.float32)\n",
    "print(x, y)\n"
   ]
  },
  {
   "cell_type": "code",
   "execution_count": 198,
   "metadata": {},
   "outputs": [],
   "source": [
    "logits = RNN(x, w, b)\n",
    "softmax = tf.nn.softmax(logits)\n",
    "step = tf.Variable(0, trainable=False)"
   ]
  },
  {
   "cell_type": "code",
   "execution_count": 199,
   "metadata": {},
   "outputs": [],
   "source": [
    "loss = tf.reduce_mean(tf.nn.softmax_cross_entropy_with_logits(logits=logits, labels=y_hot))\n",
    "optimizer = tf.train.AdamOptimizer(learning_rate, beta1=0.9, beta2=0.99).minimize(loss, global_step=step)"
   ]
  },
  {
   "cell_type": "code",
   "execution_count": 200,
   "metadata": {},
   "outputs": [],
   "source": [
    "prediction = tf.equal(tf.argmax(softmax, 1), tf.argmax(y_hot, 1))\n",
    "accuracy = tf.reduce_mean(tf.cast(prediction, dtype=tf.float32))"
   ]
  },
  {
   "cell_type": "code",
   "execution_count": 201,
   "metadata": {},
   "outputs": [
    {
     "name": "stdout",
     "output_type": "stream",
     "text": [
      "Initializing Training\n",
      "EPOCH 1\n",
      "Validation Loss = 1.256 and Validation Accuracy = 87.764 %\n",
      "EPOCH 2\n",
      "Validation Loss = 0.152 and Validation Accuracy = 89.451 %\n",
      "EPOCH 3\n",
      "Validation Loss = 0.087 and Validation Accuracy = 96.624 %\n",
      "EPOCH 4\n",
      "Validation Loss = 0.126 and Validation Accuracy = 94.093 %\n",
      "EPOCH 5\n",
      "Validation Loss = 0.176 and Validation Accuracy = 92.827 %\n",
      "EPOCH 6\n",
      "Validation Loss = 0.297 and Validation Accuracy = 89.030 %\n",
      "EPOCH 7\n",
      "Validation Loss = 0.081 and Validation Accuracy = 96.203 %\n",
      "EPOCH 8\n",
      "Validation Loss = 0.145 and Validation Accuracy = 93.671 %\n",
      "EPOCH 9\n",
      "Validation Loss = 0.078 and Validation Accuracy = 98.312 %\n",
      "EPOCH 10\n",
      "Validation Loss = 0.083 and Validation Accuracy = 97.890 %\n",
      "EPOCH 11\n",
      "Validation Loss = 0.165 and Validation Accuracy = 94.093 %\n",
      "EPOCH 12\n",
      "Validation Loss = 0.162 and Validation Accuracy = 93.249 %\n",
      "EPOCH 13\n",
      "Validation Loss = 0.341 and Validation Accuracy = 89.030 %\n",
      "EPOCH 14\n",
      "Validation Loss = 0.129 and Validation Accuracy = 94.093 %\n",
      "EPOCH 15\n",
      "Validation Loss = 0.153 and Validation Accuracy = 93.671 %\n",
      "EPOCH 16\n",
      "Validation Loss = 0.072 and Validation Accuracy = 96.203 %\n",
      "EPOCH 17\n",
      "Validation Loss = 0.115 and Validation Accuracy = 94.937 %\n",
      "EPOCH 18\n",
      "Validation Loss = 0.078 and Validation Accuracy = 95.359 %\n",
      "EPOCH 19\n",
      "Validation Loss = 0.090 and Validation Accuracy = 97.890 %\n",
      "EPOCH 20\n",
      "Validation Loss = 0.065 and Validation Accuracy = 97.468 %\n",
      "EPOCH 21\n",
      "Validation Loss = 0.074 and Validation Accuracy = 97.890 %\n",
      "EPOCH 22\n",
      "Validation Loss = 0.114 and Validation Accuracy = 94.937 %\n",
      "EPOCH 23\n",
      "Validation Loss = 0.058 and Validation Accuracy = 98.312 %\n",
      "EPOCH 24\n",
      "Validation Loss = 0.061 and Validation Accuracy = 98.312 %\n",
      "EPOCH 25\n",
      "Validation Loss = 0.082 and Validation Accuracy = 97.468 %\n",
      "EPOCH 26\n",
      "Validation Loss = 0.069 and Validation Accuracy = 95.359 %\n",
      "EPOCH 27\n",
      "Validation Loss = 0.109 and Validation Accuracy = 96.203 %\n",
      "EPOCH 28\n",
      "Validation Loss = 0.062 and Validation Accuracy = 96.624 %\n",
      "EPOCH 29\n",
      "Validation Loss = 0.054 and Validation Accuracy = 97.468 %\n",
      "EPOCH 30\n",
      "Validation Loss = 0.322 and Validation Accuracy = 89.451 %\n",
      "EPOCH 31\n",
      "Validation Loss = 0.093 and Validation Accuracy = 95.781 %\n",
      "EPOCH 32\n",
      "Validation Loss = 0.054 and Validation Accuracy = 97.468 %\n",
      "EPOCH 33\n",
      "Validation Loss = 0.058 and Validation Accuracy = 97.046 %\n",
      "EPOCH 34\n",
      "Validation Loss = 0.051 and Validation Accuracy = 97.468 %\n",
      "EPOCH 35\n",
      "Validation Loss = 0.051 and Validation Accuracy = 97.890 %\n",
      "EPOCH 36\n",
      "Validation Loss = 0.073 and Validation Accuracy = 96.624 %\n",
      "EPOCH 37\n",
      "Validation Loss = 0.050 and Validation Accuracy = 97.468 %\n",
      "EPOCH 38\n",
      "Validation Loss = 0.085 and Validation Accuracy = 96.203 %\n",
      "EPOCH 39\n",
      "Validation Loss = 0.088 and Validation Accuracy = 96.624 %\n",
      "EPOCH 40\n",
      "Validation Loss = 0.069 and Validation Accuracy = 96.624 %\n",
      "EPOCH 41\n",
      "Validation Loss = 0.174 and Validation Accuracy = 93.671 %\n",
      "EPOCH 42\n",
      "Validation Loss = 0.048 and Validation Accuracy = 97.468 %\n",
      "EPOCH 43\n",
      "Validation Loss = 0.056 and Validation Accuracy = 97.046 %\n",
      "EPOCH 44\n",
      "Validation Loss = 0.086 and Validation Accuracy = 96.203 %\n",
      "EPOCH 45\n",
      "Validation Loss = 0.052 and Validation Accuracy = 97.046 %\n",
      "EPOCH 46\n",
      "Validation Loss = 0.062 and Validation Accuracy = 98.312 %\n",
      "EPOCH 47\n",
      "Validation Loss = 0.045 and Validation Accuracy = 97.468 %\n",
      "EPOCH 48\n",
      "Validation Loss = 0.071 and Validation Accuracy = 97.468 %\n",
      "EPOCH 49\n",
      "Validation Loss = 0.045 and Validation Accuracy = 97.890 %\n",
      "EPOCH 50\n",
      "Validation Loss = 0.049 and Validation Accuracy = 97.468 %\n",
      "EPOCH 51\n",
      "Validation Loss = 0.064 and Validation Accuracy = 97.890 %\n",
      "EPOCH 52\n",
      "Validation Loss = 0.048 and Validation Accuracy = 98.312 %\n",
      "EPOCH 53\n",
      "Validation Loss = 0.092 and Validation Accuracy = 97.046 %\n",
      "EPOCH 54\n",
      "Validation Loss = 0.046 and Validation Accuracy = 97.468 %\n",
      "EPOCH 55\n",
      "Validation Loss = 0.046 and Validation Accuracy = 98.312 %\n",
      "EPOCH 56\n",
      "Validation Loss = 0.048 and Validation Accuracy = 97.046 %\n",
      "EPOCH 57\n",
      "Validation Loss = 0.071 and Validation Accuracy = 97.890 %\n",
      "EPOCH 58\n",
      "Validation Loss = 0.045 and Validation Accuracy = 98.734 %\n",
      "EPOCH 59\n",
      "Validation Loss = 0.092 and Validation Accuracy = 96.624 %\n",
      "EPOCH 60\n",
      "Validation Loss = 0.055 and Validation Accuracy = 96.624 %\n",
      "EPOCH 61\n",
      "Validation Loss = 0.050 and Validation Accuracy = 97.046 %\n",
      "EPOCH 62\n",
      "Validation Loss = 0.062 and Validation Accuracy = 96.624 %\n",
      "EPOCH 63\n",
      "Validation Loss = 0.045 and Validation Accuracy = 97.468 %\n",
      "EPOCH 64\n",
      "Validation Loss = 0.101 and Validation Accuracy = 97.046 %\n",
      "EPOCH 65\n",
      "Validation Loss = 0.050 and Validation Accuracy = 96.624 %\n",
      "EPOCH 66\n",
      "Validation Loss = 0.075 and Validation Accuracy = 96.624 %\n",
      "EPOCH 67\n",
      "Validation Loss = 0.046 and Validation Accuracy = 98.734 %\n",
      "EPOCH 68\n",
      "Validation Loss = 0.043 and Validation Accuracy = 98.312 %\n",
      "EPOCH 69\n",
      "Validation Loss = 0.041 and Validation Accuracy = 97.890 %\n",
      "EPOCH 70\n",
      "Validation Loss = 0.041 and Validation Accuracy = 97.890 %\n",
      "EPOCH 71\n",
      "Validation Loss = 0.040 and Validation Accuracy = 97.890 %\n",
      "EPOCH 72\n",
      "Validation Loss = 0.058 and Validation Accuracy = 96.624 %\n",
      "EPOCH 73\n",
      "Validation Loss = 0.083 and Validation Accuracy = 96.624 %\n",
      "EPOCH 74\n",
      "Validation Loss = 0.057 and Validation Accuracy = 96.624 %\n",
      "EPOCH 75\n",
      "Validation Loss = 0.043 and Validation Accuracy = 98.312 %\n",
      "EPOCH 76\n",
      "Validation Loss = 0.039 and Validation Accuracy = 97.890 %\n",
      "EPOCH 77\n",
      "Validation Loss = 0.039 and Validation Accuracy = 97.468 %\n",
      "EPOCH 78\n",
      "Validation Loss = 0.044 and Validation Accuracy = 97.468 %\n",
      "EPOCH 79\n",
      "Validation Loss = 0.039 and Validation Accuracy = 98.734 %\n",
      "EPOCH 80\n",
      "Validation Loss = 0.043 and Validation Accuracy = 97.468 %\n",
      "EPOCH 81\n",
      "Validation Loss = 0.061 and Validation Accuracy = 96.624 %\n",
      "EPOCH 82\n",
      "Validation Loss = 0.035 and Validation Accuracy = 98.312 %\n",
      "EPOCH 83\n",
      "Validation Loss = 0.041 and Validation Accuracy = 98.734 %\n",
      "EPOCH 84\n",
      "Validation Loss = 0.035 and Validation Accuracy = 98.734 %\n",
      "EPOCH 85\n",
      "Validation Loss = 0.037 and Validation Accuracy = 98.734 %\n",
      "EPOCH 86\n",
      "Validation Loss = 0.040 and Validation Accuracy = 97.890 %\n",
      "EPOCH 87\n",
      "Validation Loss = 0.050 and Validation Accuracy = 98.312 %\n",
      "EPOCH 88\n",
      "Validation Loss = 0.034 and Validation Accuracy = 98.312 %\n",
      "EPOCH 89\n",
      "Validation Loss = 0.097 and Validation Accuracy = 96.624 %\n",
      "EPOCH 90\n",
      "Validation Loss = 0.041 and Validation Accuracy = 97.890 %\n",
      "EPOCH 91\n",
      "Validation Loss = 0.169 and Validation Accuracy = 94.515 %\n",
      "EPOCH 92\n",
      "Validation Loss = 0.035 and Validation Accuracy = 98.734 %\n",
      "EPOCH 93\n",
      "Validation Loss = 0.049 and Validation Accuracy = 97.046 %\n",
      "EPOCH 94\n",
      "Validation Loss = 0.042 and Validation Accuracy = 98.734 %\n",
      "EPOCH 95\n",
      "Validation Loss = 0.037 and Validation Accuracy = 97.890 %\n",
      "EPOCH 96\n",
      "Validation Loss = 0.035 and Validation Accuracy = 98.312 %\n",
      "EPOCH 97\n",
      "Validation Loss = 0.037 and Validation Accuracy = 98.312 %\n",
      "EPOCH 98\n",
      "Validation Loss = 0.032 and Validation Accuracy = 98.734 %\n",
      "EPOCH 99\n",
      "Validation Loss = 0.035 and Validation Accuracy = 98.312 %\n",
      "EPOCH 100\n",
      "Validation Loss = 0.036 and Validation Accuracy = 98.312 %\n",
      "Test Loss 0.036024708300828934 and Test Accuracy 98.795 %\n"
     ]
    },
    {
     "data": {
      "image/png": "[encoded data removed]",
      "text/plain": [
       "<matplotlib.figure.Figure at 0x7f09ecbfceb8>"
      ]
     },
     "metadata": {},
     "output_type": "display_data"
    }
   ],
   "source": [
    "acc_map = []\n",
    "\n",
    "from sklearn.utils import shuffle\n",
    "\n",
    "epochs = 100\n",
    "samples = len(X_tr)\n",
    "\n",
    "count = 0\n",
    "print(\"Initializing Training\")\n",
    "try:\n",
    "    with tf.Session() as sess:\n",
    "        init = tf.global_variables_initializer()\n",
    "        sess.run(init)\n",
    "        for epoch in range(epochs):\n",
    "            X_tr, Y_tr = shuffle(X_tr, Y_tr)\n",
    "            for offset in range(0, samples, batch_size):\n",
    "                end = offset+batch_size\n",
    "                xs_batch, ys_batch = X_tr[offset:end], Y_tr[offset:end]\n",
    "                loss_, _ = sess.run([loss, optimizer], feed_dict={x: xs_batch, \n",
    "                                                                  y: ys_batch,\n",
    "                                                                  keep_prob:0.75})    \n",
    "\n",
    "            validation_loss, validation_acc = stats(X_val, Y_val)\n",
    "            acc_map.append(round(validation_acc*100, 2))\n",
    "            print(\"EPOCH {}\".format(epoch + 1))\n",
    "            print (\"Validation Loss = {:.3f} and Validation Accuracy = {:.3f} %\".format(validation_loss, 100 *validation_acc))\n",
    "        plt.figure(figsize=(12, 5))\n",
    "        plt.xticks(range(1, epochs+1))\n",
    "        plt.xlabel('epoch')\n",
    "        plt.ylabel('accuracy')\n",
    "        plt.grid(True)\n",
    "        plt.plot(range(1, epochs+1), acc_map, '-o')\n",
    "        for i, j in list(zip(range(1, epochs+1), acc_map))[0::3]:\n",
    "            plt.text(i, j-1, str(j))\n",
    "        test_loss, test_acc = sess.run([loss, accuracy], feed_dict={x: xs_batch, \n",
    "                                                                    y: ys_batch,\n",
    "                                                                    keep_prob:1.0})  \n",
    "        print (\"Test Loss {} and Test Accuracy {:.3f} %\".format(test_loss, 100 *test_acc))\n",
    "except KeyboardInterrupt:\n",
    "    print('Training interrupted')"
   ]
  },
  {
   "cell_type": "code",
   "execution_count": null,
   "metadata": {
    "collapsed": true
   },
   "outputs": [],
   "source": []
  },
  {
   "cell_type": "code",
   "execution_count": null,
   "metadata": {
    "collapsed": true
   },
   "outputs": [],
   "source": []
  }
 ],
 "metadata": {
  "kernelspec": {
   "display_name": "Python 3",
   "language": "python",
   "name": "python3"
  },
  "language_info": {
   "codemirror_mode": {
    "name": "ipython",
    "version": 3
   },
   "file_extension": ".py",
   "mimetype": "text/x-python",
   "name": "python",
   "nbconvert_exporter": "python",
   "pygments_lexer": "ipython3",
   "version": "3.6.1"
  }
 },
 "nbformat": 4,
 "nbformat_minor": 2
}
